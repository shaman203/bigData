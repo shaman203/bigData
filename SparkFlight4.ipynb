{
 "cells": [
  {
   "cell_type": "code",
   "execution_count": 55,
   "metadata": {
    "collapsed": false
   },
   "outputs": [
    {
     "data": {
      "text/plain": [
       "[(u'ATL', 175017),\n",
       " (u'ORD', 159427),\n",
       " (u'DFW', 127749),\n",
       " (u'DEN', 104414),\n",
       " (u'LAX', 87258),\n",
       " (u'IAH', 87139),\n",
       " (u'PHX', 82915),\n",
       " (u'LAS', 76240),\n",
       " (u'EWR', 69612),\n",
       " (u'DTW', 59837)]"
      ]
     },
     "execution_count": 55,
     "metadata": {},
     "output_type": "execute_result"
    }
   ],
   "source": [
    "from operator import add\n",
    "data = sc.textFile(\"/home/matyi/Egyetem/osz2/big_data_eszkozok/hazi/input/2008.csv\")\n",
    "header = data.first()\n",
    "rows = data.filter(lambda line: line != header) \\\n",
    ".map(lambda line: line.split(\",\"))\\\n",
    ".filter(lambda line: len(line)>1)\\\n",
    ".map(lambda line: (line[16],line[15]))\\\n",
    ".filter(lambda line: line[1] != \"NA\")\\\n",
    ".map(lambda line: (line[0], int(line[1])))\\\n",
    ".filter(lambda line: line[1] > 0) \\\n",
    ".map( lambda line : (line[0], 1)) \\\n",
    ".reduceByKey(add) \\\n",
    ".takeOrdered(10, key=lambda x: -x[1])\n",
    "#rows = [i[0] for i in rows]\n",
    "rows\n"
   ]
  }
 ],
 "metadata": {
  "kernelspec": {
   "display_name": "Python 2",
   "language": "python",
   "name": "python2"
  },
  "language_info": {
   "codemirror_mode": {
    "name": "ipython",
    "version": 2
   },
   "file_extension": ".py",
   "mimetype": "text/x-python",
   "name": "python",
   "nbconvert_exporter": "python",
   "pygments_lexer": "ipython2",
   "version": "2.7.10"
  }
 },
 "nbformat": 4,
 "nbformat_minor": 0
}
