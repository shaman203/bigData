{
 "cells": [
  {
   "cell_type": "code",
   "execution_count": 2,
   "metadata": {
    "collapsed": false
   },
   "outputs": [
    {
     "data": {
      "text/plain": [
       "[(u'ATL', 175017),\n",
       " (u'ORD', 159427),\n",
       " (u'DFW', 127749),\n",
       " (u'DEN', 104414),\n",
       " (u'LAX', 87258),\n",
       " (u'IAH', 87139),\n",
       " (u'PHX', 82915),\n",
       " (u'LAS', 76240),\n",
       " (u'EWR', 69612),\n",
       " (u'DTW', 59837)]"
      ]
     },
     "execution_count": 2,
     "metadata": {},
     "output_type": "execute_result"
    }
   ],
   "source": [
    "from operator import add\n",
    "data = sc.textFile(\"../big_data_eszkozok/hazi/input/2008.csv\")\n",
    "header = data.first()\n",
    "rows = data.filter(lambda line: line != header)\\ #header eldobás\n",
    ".map(lambda line: line.split(\",\"))\\     #mezők kinyerése\n",
    ".filter(lambda line: len(line)>1)\\      #üres sorok eldobása\n",
    ".map(lambda line: (line[16],line[15]))\\ #releváns mezők kiválasztása\n",
    ".filter(lambda line: line[1] != \"NA\")\\  #nem teljes sorok kihagyása\n",
    ".map(lambda line: (line[0], int(line[1])))\\ #mező int konverziója\n",
    ".filter(lambda line: line[1] > 0) \\     #szűrés későn indulásra\n",
    ".map( lambda line : (line[0], 1)) \\     #későn indulások számolása\n",
    ".reduceByKey(add) \\                            \n",
    ".takeOrdered(10, key=lambda x: -x[1])   #legtöbbet késő 10 kiválasztás\n",
    "#rows = [i[0] for i in rows]\n",
    "rows\n"
   ]
  }
 ],
 "metadata": {
  "kernelspec": {
   "display_name": "Python 2",
   "language": "python",
   "name": "python2"
  },
  "language_info": {
   "codemirror_mode": {
    "name": "ipython",
    "version": 2
   },
   "file_extension": ".py",
   "mimetype": "text/x-python",
   "name": "python",
   "nbconvert_exporter": "python",
   "pygments_lexer": "ipython2",
   "version": "2.7.10"
  }
 },
 "nbformat": 4,
 "nbformat_minor": 0
}
