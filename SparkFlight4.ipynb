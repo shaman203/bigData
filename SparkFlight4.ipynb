{
 "cells": [
  {
   "cell_type": "code",
   "execution_count": 1,
   "metadata": {
    "collapsed": false
   },
   "outputs": [
    {
     "data": {
      "text/plain": [
       "[(u'Origin', u'DepDelay'),\n",
       " (u'IAD', u'8'),\n",
       " (u'IAD', u'19'),\n",
       " (u'IND', u'8'),\n",
       " (u'IND', u'-4'),\n",
       " (u'IND', u'34'),\n",
       " (u'IND', u'25'),\n",
       " (u'IND', u'67'),\n",
       " (u'IND', u'-1'),\n",
       " (u'IND', u'2'),\n",
       " (u'IND', u'0'),\n",
       " (u'IND', u'6'),\n",
       " (u'IND', u'94'),\n",
       " (u'IND', u'-4'),\n",
       " (u'IND', u'0'),\n",
       " (u'IND', u'2'),\n",
       " (u'IND', u'9'),\n",
       " (u'IND', u'27'),\n",
       " (u'IND', u'9'),\n",
       " (u'IND', u'28'),\n",
       " (u'ISP', u'51'),\n",
       " (u'ISP', u'1')]"
      ]
     },
     "execution_count": 1,
     "metadata": {},
     "output_type": "execute_result"
    }
   ],
   "source": [
    "sc.textFile(\"/home/matyi/Egyetem/osz2/big_data_eszkozok/hazi/input/2008small.csv\").map(lambda line: line.split(\",\")).filter(lambda line: len(line)>1).map(lambda line: (line[16],line[15])).collect()"
   ]
  }
 ],
 "metadata": {
  "kernelspec": {
   "display_name": "Python 2",
   "language": "python",
   "name": "python2"
  },
  "language_info": {
   "codemirror_mode": {
    "name": "ipython",
    "version": 2
   },
   "file_extension": ".py",
   "mimetype": "text/x-python",
   "name": "python",
   "nbconvert_exporter": "python",
   "pygments_lexer": "ipython2",
   "version": "2.7.10"
  }
 },
 "nbformat": 4,
 "nbformat_minor": 0
}
